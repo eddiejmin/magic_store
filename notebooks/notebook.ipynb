{
 "cells": [
  {
   "cell_type": "code",
   "execution_count": 1,
   "metadata": {},
   "outputs": [
    {
     "name": "stdout",
     "output_type": "stream",
     "text": [
      "        date  store  item  quantity  sale_price\n",
      "0 2024-11-15      8     3        47         970\n",
      "1 2024-07-13      5    29        57         550\n",
      "2 2024-09-21      6    45        60         830\n",
      "3 2023-07-12      3    12        33         210\n",
      "4 2024-12-08      7    11        98         530\n"
     ]
    }
   ],
   "source": [
    "import pandas as pd\n",
    "import numpy as np\n",
    "\n",
    "'''\n",
    "Create python script to create a dim_store dataset the following conditions:\n",
    "- store_id: unique identifier for each store\n",
    "- store_name: name of the store\n",
    "- store_city: city where the store is located\n",
    "\n",
    "The dataset should have 10 stores with the following information:\n",
    "- store_id: 1 to 10\n",
    "- store_name: store1 to store10\n",
    "- store_city can be in the top 10 cities in the US by population \n",
    "''' "
   ]
  }
 ],
 "metadata": {
  "kernelspec": {
   "display_name": ".venv",
   "language": "python",
   "name": "python3"
  },
  "language_info": {
   "codemirror_mode": {
    "name": "ipython",
    "version": 3
   },
   "file_extension": ".py",
   "mimetype": "text/x-python",
   "name": "python",
   "nbconvert_exporter": "python",
   "pygments_lexer": "ipython3",
   "version": "3.10.15"
  }
 },
 "nbformat": 4,
 "nbformat_minor": 2
}
