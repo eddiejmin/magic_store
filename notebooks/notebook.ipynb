{
 "cells": [
  {
   "cell_type": "code",
   "execution_count": 1,
   "metadata": {},
   "outputs": [
    {
     "name": "stdout",
     "output_type": "stream",
     "text": [
      "        date  store  item  quantity  sale_price\n",
      "0 2024-11-15      8     3        47         970\n",
      "1 2024-07-13      5    29        57         550\n",
      "2 2024-09-21      6    45        60         830\n",
      "3 2023-07-12      3    12        33         210\n",
      "4 2024-12-08      7    11        98         530\n"
     ]
    }
   ],
   "source": [
    "import pandas as pd\n",
    "import numpy as np\n",
    "\n",
    "'''\n",
    "Create a sample logging data for a ecommerce website with the following columns:\n",
    "- user_id\n",
    "- timestamp\n",
    "- page_name\n",
    "- action (view, click)\n",
    "\n",
    "The data should have at least 1000 rows.\n",
    "- user_id should be a random number between 1 and 10\n",
    "- timestamp should be between 2024-01-01 and 2024-12-31\n",
    "- page_name should be ['home', 'product', 'cart', 'checkout', 'confirmation']\n",
    "- action should be ['view', 'click']\n",
    "''' "
   ]
  }
 ],
 "metadata": {
  "kernelspec": {
   "display_name": ".venv",
   "language": "python",
   "name": "python3"
  },
  "language_info": {
   "codemirror_mode": {
    "name": "ipython",
    "version": 3
   },
   "file_extension": ".py",
   "mimetype": "text/x-python",
   "name": "python",
   "nbconvert_exporter": "python",
   "pygments_lexer": "ipython3",
   "version": "3.10.15"
  }
 },
 "nbformat": 4,
 "nbformat_minor": 2
}
